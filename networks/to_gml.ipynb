{
 "cells": [
  {
   "cell_type": "code",
   "execution_count": 13,
   "metadata": {},
   "outputs": [],
   "source": [
    "import networkx as nx\n",
    "import pandas as pd\n",
    "\n",
    "from ipysigma import Sigma\n",
    "\n",
    "import os"
   ]
  },
  {
   "cell_type": "code",
   "execution_count": 26,
   "metadata": {},
   "outputs": [
    {
     "data": {
      "text/plain": [
       "['retweet_graph_beefban_threshold_largest_CC.txt',\n",
       " 'retweet_graph_germanwings_threshold_largest_CC.txt',\n",
       " 'retweet_graph_gunsense_threshold_largest_CC.txt',\n",
       " 'retweet_graph_nationalkissingday_threshold_largest_CC.txt',\n",
       " 'retweet_graph_indiana_threshold_largest_CC.txt',\n",
       " 'retweet_graph_onedirection_threshold_largest_CC.txt',\n",
       " 'retweet_graph_russia_march_threshold_largest_CC.txt',\n",
       " 'retweet_graph_ukraine_threshold_largest_CC.txt',\n",
       " 'retweet_graph_baltimore_threshold_largest_CC.txt',\n",
       " 'retweet_graph_leadersdebate_threshold_largest_CC.txt',\n",
       " 'retweet_graph_wcw_threshold_largest_CC.txt',\n",
       " 'retweet_graph_nepal_threshold_largest_CC.txt',\n",
       " 'retweet_graph_ultralive_threshold_largest_CC.txt',\n",
       " 'retweet_graph_mothersday_threshold_largest_CC.txt',\n",
       " 'retweet_graph_indiasdaughter_threshold_largest_CC.txt',\n",
       " 'retweet_graph_netanyahu_threshold_largest_CC.txt',\n",
       " 'retweet_graph_ff_threshold_largest_CC.txt',\n",
       " 'retweet_graph_nemtsov_threshold_largest_CC.txt',\n",
       " 'retweet_graph_sxsw_threshold_largest_CC.txt',\n",
       " 'retweet_graph_jurassicworld_threshold_largest_CC.txt']"
      ]
     },
     "execution_count": 26,
     "metadata": {},
     "output_type": "execute_result"
    }
   ],
   "source": [
    "# List files in dir \"follow_networks\"\n",
    "files = os.listdir(\"retweet_networks\")\n",
    "\n",
    "files"
   ]
  },
  {
   "cell_type": "code",
   "execution_count": 29,
   "metadata": {},
   "outputs": [
    {
     "data": {
      "text/html": [
       "<div>\n",
       "<style scoped>\n",
       "    .dataframe tbody tr th:only-of-type {\n",
       "        vertical-align: middle;\n",
       "    }\n",
       "\n",
       "    .dataframe tbody tr th {\n",
       "        vertical-align: top;\n",
       "    }\n",
       "\n",
       "    .dataframe thead th {\n",
       "        text-align: right;\n",
       "    }\n",
       "</style>\n",
       "<table border=\"1\" class=\"dataframe\">\n",
       "  <thead>\n",
       "    <tr style=\"text-align: right;\">\n",
       "      <th></th>\n",
       "      <th>0</th>\n",
       "      <th>1</th>\n",
       "      <th>2</th>\n",
       "    </tr>\n",
       "  </thead>\n",
       "  <tbody>\n",
       "    <tr>\n",
       "      <th>0</th>\n",
       "      <td>_irajput</td>\n",
       "      <td>wantedshubham</td>\n",
       "      <td>2.0</td>\n",
       "    </tr>\n",
       "    <tr>\n",
       "      <th>1</th>\n",
       "      <td>_irajput</td>\n",
       "      <td>anmol_77</td>\n",
       "      <td>3.0</td>\n",
       "    </tr>\n",
       "    <tr>\n",
       "      <th>2</th>\n",
       "      <td>this_is_arc</td>\n",
       "      <td>keisar_</td>\n",
       "      <td>2.0</td>\n",
       "    </tr>\n",
       "    <tr>\n",
       "      <th>3</th>\n",
       "      <td>beingthatgirl43</td>\n",
       "      <td>smanak</td>\n",
       "      <td>5.0</td>\n",
       "    </tr>\n",
       "    <tr>\n",
       "      <th>4</th>\n",
       "      <td>beingthatgirl43</td>\n",
       "      <td>ddsez</td>\n",
       "      <td>2.0</td>\n",
       "    </tr>\n",
       "  </tbody>\n",
       "</table>\n",
       "</div>"
      ],
      "text/plain": [
       "                 0              1    2\n",
       "0         _irajput  wantedshubham  2.0\n",
       "1         _irajput       anmol_77  3.0\n",
       "2      this_is_arc        keisar_  2.0\n",
       "3  beingthatgirl43         smanak  5.0\n",
       "4  beingthatgirl43          ddsez  2.0"
      ]
     },
     "execution_count": 29,
     "metadata": {},
     "output_type": "execute_result"
    }
   ],
   "source": [
    "df = pd.read_csv(\"retweet_networks/\" + files[0], header=None, dtype={0: str, 1: str})\n",
    "df.head()"
   ]
  },
  {
   "cell_type": "code",
   "execution_count": 30,
   "metadata": {},
   "outputs": [],
   "source": [
    "# Rename columns\n",
    "df.columns = [\"source\", \"target\", \"weight\"]"
   ]
  },
  {
   "cell_type": "code",
   "execution_count": 31,
   "metadata": {},
   "outputs": [
    {
     "data": {
      "text/plain": [
       "source     object\n",
       "target     object\n",
       "weight    float64\n",
       "dtype: object"
      ]
     },
     "execution_count": 31,
     "metadata": {},
     "output_type": "execute_result"
    }
   ],
   "source": [
    "df.dtypes"
   ]
  },
  {
   "cell_type": "code",
   "execution_count": 32,
   "metadata": {},
   "outputs": [
    {
     "data": {
      "text/plain": [
       "<networkx.classes.graph.Graph at 0x286d2aa60>"
      ]
     },
     "execution_count": 32,
     "metadata": {},
     "output_type": "execute_result"
    }
   ],
   "source": [
    "G = nx.from_pandas_edgelist(df, \"source\", \"target\")\n",
    "G"
   ]
  },
  {
   "cell_type": "code",
   "execution_count": 33,
   "metadata": {},
   "outputs": [
    {
     "data": {
      "application/vnd.jupyter.widget-view+json": {
       "model_id": "5015335f4d03404e82f46e294d9cf5de",
       "version_major": 2,
       "version_minor": 0
      },
      "text/plain": [
       "Sigma(nx.Graph with 1,610 nodes and 1,978 edges)"
      ]
     },
     "execution_count": 33,
     "metadata": {},
     "output_type": "execute_result"
    }
   ],
   "source": [
    "Sigma(G)"
   ]
  },
  {
   "cell_type": "code",
   "execution_count": 34,
   "metadata": {},
   "outputs": [],
   "source": [
    "for f_name in files:\n",
    "    df = pd.read_csv(\"retweet_networks/\" + f_name, header=None, dtype={0: str, 1: str})\n",
    "\n",
    "    df.columns = [\"source\", \"target\", \"weight\"]\n",
    "    G = nx.from_pandas_edgelist(df, \"source\", \"target\")\n",
    "\n",
    "    # retweet_graph_beefban_threshold_largest_CC.txt\n",
    "    f_name = f_name.replace(\"retweet_graph_\", \"\")\n",
    "    f_name = f_name.replace(\"_threshold_largest_CC.txt\", \".gml\")\n",
    "\n",
    "    nx.write_gml(G, \"retweet_networks_new/\" + f_name)"
   ]
  },
  {
   "cell_type": "code",
   "execution_count": null,
   "metadata": {},
   "outputs": [],
   "source": []
  }
 ],
 "metadata": {
  "kernelspec": {
   "display_name": "py39",
   "language": "python",
   "name": "python3"
  },
  "language_info": {
   "codemirror_mode": {
    "name": "ipython",
    "version": 3
   },
   "file_extension": ".py",
   "mimetype": "text/x-python",
   "name": "python",
   "nbconvert_exporter": "python",
   "pygments_lexer": "ipython3",
   "version": "3.9.13"
  },
  "orig_nbformat": 4,
  "vscode": {
   "interpreter": {
    "hash": "53b5819a6a678047d8bf1a47f48a5ac8f95682809dc8b7c560449bedce73fa2f"
   }
  }
 },
 "nbformat": 4,
 "nbformat_minor": 2
}
